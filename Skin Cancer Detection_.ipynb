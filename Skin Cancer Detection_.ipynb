{
 "cells": [
  {
   "cell_type": "code",
   "execution_count": null,
   "metadata": {
    "_uuid": "371731306c3e504b191979706e826c247def88dc"
   },
   "outputs": [],
   "source": [
    "from numpy.random import seed\n",
    "seed(101)\n",
    "import tensorflow as tf\n",
    "tf.random.set_seed(101) \n",
    "\n",
    "import pandas as pd\n",
    "import numpy as npy\n",
    "\n",
    "import tensorflow\n",
    "from tensorflow.keras.layers import Dense, Dropout\n",
    "from tensorflow.keras.optimizers import Adam\n",
    "from tensorflow.keras.metrics import categorical_crossentropy\n",
    "from tensorflow.keras.preprocessing.image import ImageDataGenerator\n",
    "from tensorflow.keras.models import Model\n",
    "from tensorflow.keras.callbacks import EarlyStopping, ReduceLROnPlateau, ModelCheckpoint\n",
    "\n",
    "import os as op\n",
    "\n",
    "from sklearn.metrics import confusion_matrix\n",
    "from sklearn.model_selection import train_test_split\n",
    "import itertools\n",
    "import shutil\n",
    "import matplotlib.pyplot as plots\n",
    "%matplotlib inline\n",
    "import time"
   ]
  },
  {
   "cell_type": "code",
   "execution_count": null,
   "metadata": {
    "_uuid": "d5a0a200bfc57c5489eaa930255d9420a7d01c47"
   },
   "outputs": [],
   "source": [
    "op.listdir(r'C:\\Users\\Downloads\\skin_cancer\\archive')"
   ]
  },
  {
   "cell_type": "code",
   "execution_count": null,
   "metadata": {
    "_uuid": "d24ef21f9f2359b8bf6b3e7a0b8ab5a43daaf566"
   },
   "outputs": [],
   "source": [
    "root_directory = 'root_directory'\n",
    "op.mkdir(root_directory)\n",
    "\n",
    "training_directory = op.path.join(root_directory, 'training_directory')\n",
    "op.mkdir(training_directory)\n",
    "\n",
    "\n",
    "validation_directory = op.path.join(root_directory, 'validation_directory')\n",
    "op.mkdir(validation_directory)\n",
    "\n",
    "\n",
    "Melanocytic_nevi = op.path.join(training_directory, 'nv')\n",
    "op.mkdir(Melanocytic_nevi)\n",
    "Melanoma = op.path.join(training_directory, 'mel')\n",
    "op.mkdir(Melanoma)\n",
    "Benign_Keratosis = op.path.join(training_directory, 'bkl')\n",
    "op.mkdir(Benign_Keratosis)\n",
    "Basal_cell_carcinoma = op.path.join(training_directory, 'bcc')\n",
    "op.mkdir(Basal_cell_carcinoma)\n",
    "Actinic_Keratoses = op.path.join(training_directory, 'akiec')\n",
    "op.mkdir(Actinic_Keratoses)\n",
    "Vascular_skin_lesions = op.path.join(training_directory, 'vasc')\n",
    "op.mkdir(Vascular_skin_lesions)\n",
    "skn_dat = op.path.join(training_directory, 'df')\n",
    "op.mkdir(skn_dat)\n",
    "\n",
    "Melanocytic_nevi = op.path.join(validation_directory, 'nv')\n",
    "op.mkdir(Melanocytic_nevi)\n",
    "Melanoma = op.path.join(validation_directory, 'mel')\n",
    "op.mkdir(Melanoma)\n",
    "Benign_Keratosis = op.path.join(validation_directory, 'bkl')\n",
    "op.mkdir(Benign_Keratosis)\n",
    "Basal_cell_carcinoma = op.path.join(validation_directory, 'bcc')\n",
    "op.mkdir(Basal_cell_carcinoma)\n",
    "Actinic_Keratoses = op.path.join(validation_directory, 'akiec')\n",
    "op.mkdir(Actinic_Keratoses)\n",
    "Vascular_skin_lesions = op.path.join(validation_directory, 'vasc')\n",
    "op.mkdir(Vascular_skin_lesions)\n",
    "skn_dat = op.path.join(validation_directory, 'df')\n",
    "op.mkdir(skn_dat)\n",
    "\n"
   ]
  },
  {
   "cell_type": "code",
   "execution_count": null,
   "metadata": {
    "_uuid": "268503398ef61904e05a2c0b0667d589f08a19a8"
   },
   "outputs": [],
   "source": [
    "skn_org = pd.read_csv('HAM10000_metadata.csv')\n",
    "\n",
    "skn_org.head()"
   ]
  },
  {
   "cell_type": "code",
   "execution_count": null,
   "metadata": {
    "_uuid": "53e4b7b152ed831a7d7516156ac300c0e6985ffc"
   },
   "outputs": [],
   "source": [
    "skn_dat = skn_org.groupby('lesion_id').count()\n",
    "\n",
    "skn_dat = skn_dat[skn_dat['image_id'] == 1]\n",
    "\n",
    "skn_dat.reset_index(inplace=True)\n",
    "\n",
    "skn_dat.head()"
   ]
  },
  {
   "cell_type": "code",
   "execution_count": null,
   "metadata": {},
   "outputs": [],
   "source": [
    "skn_org['is_duplicate'] = skn_org['lesion_id'].duplicated(keep=False)\\\n",
    ".map({True: 'duplicated', False: 'not duplicated'})"
   ]
  },
  {
   "cell_type": "code",
   "execution_count": null,
   "metadata": {},
   "outputs": [],
   "source": [
    "skn_org.head()"
   ]
  },
  {
   "cell_type": "code",
   "execution_count": null,
   "metadata": {},
   "outputs": [],
   "source": [
    "skn_org.shape"
   ]
  },
  {
   "cell_type": "code",
   "execution_count": null,
   "metadata": {
    "_uuid": "08b7eef3e0ac4112f63b8fb26ce19d55483cbc04"
   },
   "outputs": [],
   "source": [
    "skn_org['is_duplicate'].value_counts()"
   ]
  },
  {
   "cell_type": "code",
   "execution_count": null,
   "metadata": {
    "_uuid": "995445dfda2745165a53e61f42615104b951d4af"
   },
   "outputs": [],
   "source": [
    "skn_dat = skn_org[skn_org['is_duplicate'] == 'not duplicated']\n",
    "\n",
    "skn_dat.shape"
   ]
  },
  {
   "cell_type": "code",
   "execution_count": null,
   "metadata": {
    "_uuid": "39fde25b59a9452cf700c5b2ff82cc7cc45c4a33"
   },
   "outputs": [],
   "source": [
    "y = skn_dat['dx']\n",
    "\n",
    "_, valid_skn_dat = train_test_split(skn_dat, test_size=0.18, random_state= 11)\n"
   ]
  },
  {
   "cell_type": "code",
   "execution_count": null,
   "metadata": {
    "_uuid": "1df37227f7ce993d054ed5b8480ee724696fc210"
   },
   "outputs": [],
   "source": [
    "valid_skn_dat['dx'].value_counts()"
   ]
  },
  {
   "cell_type": "code",
   "execution_count": null,
   "metadata": {
    "_uuid": "03715a6cf5aeb6430ee144a84eb10dde216c0fb9"
   },
   "outputs": [],
   "source": [
    "def identify_val_rows(s):\n",
    "    truncate_l = list(valid_skn_dat['image_id'])\n",
    "    \n",
    "    if str(s) in truncate_l:\n",
    "        return 'val'\n",
    "    else:\n",
    "        return 'trn'\n",
    "\n",
    "skn_org['validation_or_train'] = skn_org['image_id']\n",
    "skn_org['validation_or_train'] = skn_org['validation_or_train'].apply(identify_val_rows)\n",
    "   \n",
    "skn_dat_train = skn_org[skn_org['validation_or_train'] == 'trn']\n",
    "\n",
    "\n",
    "print(\"No. of imgs for training\",len(skn_dat_train))\n",
    "print(\"No. of imgs for validation\",len(valid_skn_dat))"
   ]
  },
  {
   "cell_type": "code",
   "execution_count": null,
   "metadata": {
    "_uuid": "4b976a9018b1bd2dc0522c68339c5861534a1571"
   },
   "outputs": [],
   "source": [
    "skn_dat_train['dx'].value_counts()"
   ]
  },
  {
   "cell_type": "code",
   "execution_count": null,
   "metadata": {
    "_uuid": "1581d5a3e86f9673ae175102112017e30229bc37"
   },
   "outputs": [],
   "source": [
    "valid_skn_dat['dx'].value_counts()"
   ]
  },
  {
   "cell_type": "code",
   "execution_count": null,
   "metadata": {
    "_uuid": "4acee2b7879762e50b52df118a9b691515fe7ac0"
   },
   "outputs": [],
   "source": [
    "skn_org.set_index('image_id', inplace=True)"
   ]
  },
  {
   "cell_type": "code",
   "execution_count": null,
   "metadata": {
    "_uuid": "eca02fbf066c8124d0cb465295bbd2593f5f045a"
   },
   "outputs": [],
   "source": [
    "part_1 = op.listdir(r'C:\\Users\\Downloads\\skin_cancer\\archive\\HAM10000_images_part_1')\n",
    "part_2 = op.listdir(r'C:\\Users\\Downloads\\skin_cancer\\archive\\HAM10000_images_part_2')\n",
    "\n",
    "images_training = list(skn_dat_train['image_id'])\n",
    "images_validation = list(valid_skn_dat['image_id'])\n",
    "\n",
    "\n",
    "for im in images_training:\n",
    "    \n",
    "    f_name = im + '.jpg'\n",
    "    lbl = skn_org.loc[im,'dx']\n",
    "    \n",
    "    if f_name in part_1:\n",
    "        srrc = op.path.join(r'C:\\Users\\Downloads\\skin_cancer\\archive\\HAM10000_images_part_1', f_name)\n",
    "        dest = op.path.join(training_directory, lbl, f_name)\n",
    "        shutil.copyfile(srrc, dest)\n",
    "\n",
    "    if f_name in part_2:\n",
    "        srrc = op.path.join(r'C:\\Users\\Downloads\\skin_cancer\\archive\\HAM10000_images_part_2', f_name)\n",
    "        dest = op.path.join(training_directory, lbl, f_name)\n",
    "        shutil.copyfile(srrc, dest)\n",
    "\n",
    "\n",
    "for im in images_validation:\n",
    "    \n",
    "    f_name = im + '.jpg'\n",
    "    lbl = skn_org.loc[im,'dx']\n",
    "    \n",
    "    if f_name in part_1:\n",
    "        srrc = op.path.join(r'C:\\Users\\Downloads\\skin_cancer\\archive\\HAM10000_images_part_1', f_name)\n",
    "        dest = op.path.join(validation_directory, lbl, f_name)\n",
    "        shutil.copyfile(srrc, dest)\n",
    "\n",
    "    if f_name in part_2:\n",
    "        srrc = op.path.join(r'C:\\Users\\\\Downloads\\skin_cancer\\archive\\HAM10000_images_part_2', f_name)\n",
    "        dest = op.path.join(validation_directory, lbl, f_name)\n",
    "        shutil.copyfile(srrc, dest)\n",
    "        "
   ]
  },
  {
   "cell_type": "code",
   "execution_count": null,
   "metadata": {
    "_uuid": "5a4847c4cc799c23e57bf2531d92117cb95e1b07"
   },
   "outputs": [],
   "source": [
    "print(\"Melanocytic Nevi \",len(op.listdir('root_directory/training_directory/nv')))\n",
    "print(\"Melanoma \",len(op.listdir('root_directory/training_directory/mel')))\n",
    "print(\"Benign Keratosis\",len(op.listdir('root_directory/training_directory/bkl')))\n",
    "print(\"Basal Cell Carcinoma \",len(op.listdir('root_directory/training_directory/bcc')))\n",
    "print(\"Actinic Keratosis \",len(op.listdir('root_directory/training_directory/akiec')))\n",
    "print(\"Vascular Lesion \",len(op.listdir('root_directory/training_directory/vasc')))\n",
    "print(\"Dermatofibroma\",len(op.listdir('root_directory/training_directory/df')))"
   ]
  },
  {
   "cell_type": "code",
   "execution_count": null,
   "metadata": {
    "_uuid": "fd05c08cbfa00418dc333f5b67d1ff6e98aa973e"
   },
   "outputs": [],
   "source": [
    "print(\"Melanocytic Nevi \",len(op.listdir('root_directory/validation_directory/nv')))\n",
    "print(\"Melanoma \",len(op.listdir('root_directory/validation_directory/mel')))\n",
    "print(\"Benign Keratosis\",len(op.listdir('root_directory/validation_directory/bkl')))\n",
    "print(\"Basal Cell Carcinoma \",len(op.listdir('root_directory/validation_directory/bcc')))\n",
    "print(\"Actinic Keratosis \",len(op.listdir('root_directory/validation_directory/akiec')))\n",
    "print(\"Vascular Lesion \",len(op.listdir('root_directory/validation_directory/vasc')))\n",
    "print(\"Dermatofibroma\",len(op.listdir('root_directory/validation_directory/df')))"
   ]
  },
  {
   "cell_type": "code",
   "execution_count": null,
   "metadata": {
    "_uuid": "8fe970d74e9d5a284420af4ad37d8aae89dc1c15"
   },
   "outputs": [],
   "source": [
    "classes = ['mel','bkl','bcc','akiec','vasc','df']\n",
    "\n",
    "for name in classes:\n",
    "    augment_directory = 'augment_directory'\n",
    "    op.mkdir(augment_directory)\n",
    "    image_directory = op.path.join(augment_directory, 'image_dir')\n",
    "    op.mkdir(image_directory)\n",
    "\n",
    "    img_cls = name\n",
    "\n",
    "    images_list = op.listdir('root_directory/training_directory/' + img_cls)\n",
    "\n",
    "    for f_name in images_list:\n",
    "            srrc = op.path.join('root_directory/training_directory/' + img_cls, f_name)\n",
    "            dst = op.path.join(image_directory, f_name)\n",
    "            shutil.copyfile(srrc, dst)\n",
    "\n",
    "\n",
    "    augment_path = augment_directory\n",
    "    savefile_path = 'root_directory/training_directory/' + img_cls\n",
    "\n",
    "    datagenerator = ImageDataGenerator(\n",
    "        width_shift_range=0.3,\n",
    "        zoom_range=0.3,\n",
    "        rotation_range=181,\n",
    "        vertical_flip=True,\n",
    "        horizontal_flip=True,\n",
    "        fill_mode='nearest',\n",
    "        height_shift_range=0.3\n",
    "        )\n",
    "\n",
    "    batchsize = 50\n",
    "    image_size = 224\n",
    "\n",
    "    augment_data_generator= datagenerator.flow_from_directory(augment_path,\n",
    "                                           save_to_dir=savefile_path,\n",
    "                                           save_format='jpg',\n",
    "                                           target_size=(image_size,image_size),\n",
    "                                           batch_size=batchsize)\n",
    "\n",
    "    \n",
    "    number_of_augmented_images = 6000 \n",
    "    number_of_files = len(op.listdir(image_directory))\n",
    "    number_of_batches = int(npy.ceil((number_of_augmented_images - number_of_files)/batchsize))\n",
    "\n",
    "    for l in range(0,number_of_batches):\n",
    "\n",
    "        images, labels = next(augment_data_generator)\n",
    "        \n",
    "    shutil.rmtree('augment_directory')"
   ]
  },
  {
   "cell_type": "code",
   "execution_count": null,
   "metadata": {
    "_uuid": "b9bbc56bd25441150d2430dca2b07d8ebae57d95"
   },
   "outputs": [],
   "source": [
    "print(\"Number of images per class after data augmentation\")\n",
    "print(\"Melanocytic Nevi \",len(op.listdir('root_directory/training_directory/nv')))\n",
    "print(\"Melanoma \",len(op.listdir('root_directory/training_directory/mel')))\n",
    "print(\"Benign Keratosis\",len(op.listdir('root_directory/training_directory/bkl')))\n",
    "print(\"Basal Cell Carcinoma \",len(op.listdir('root_directory/training_directory/bcc')))\n",
    "print(\"Actinic Keratosis \",len(op.listdir('root_directory/training_directory/akiec')))\n",
    "print(\"Vascular Lesion \",len(op.listdir('root_directory/training_directory/vasc')))\n",
    "print(\"Dermatofibroma\",len(op.listdir('root_directory/training_directory/df')))"
   ]
  },
  {
   "cell_type": "code",
   "execution_count": null,
   "metadata": {
    "_uuid": "21de03bdc63ecf78cc061d364d14d3216a544b43"
   },
   "outputs": [],
   "source": [
    "print(\"Melanocytic Nevi \",len(op.listdir('root_directory/validation_directory/nv')))\n",
    "print(\"Melanoma \",len(op.listdir('root_directory/validation_directory/mel')))\n",
    "print(\"Benign Keratosis\",len(op.listdir('root_directory/validation_directory/bkl')))\n",
    "print(\"Basal Cell Carcinoma \",len(op.listdir('root_directory/validation_directory/bcc')))\n",
    "print(\"Actinic Keratosis \",len(op.listdir('root_directory/validation_directory/akiec')))\n",
    "print(\"Vascular Lesion \",len(op.listdir('root_directory/validation_directory/vasc')))\n",
    "print(\"Dermatofibroma\",len(op.listdir('root_directory/validation_directory/df')))"
   ]
  },
  {
   "cell_type": "code",
   "execution_count": null,
   "metadata": {},
   "outputs": [],
   "source": [
    "import numpy as np\n",
    "import matplotlib.pyplot as plot\n",
    "\n",
    "def skin_square(images, figure_size=(18, 9), row_count=6, interp=False):\n",
    "    if isinstance(images[0], npy.ndarray):\n",
    "        images = npy.array(images).astype(npy.uint8)\n",
    "        if images.shape[-1] != 3:\n",
    "            images = images.transpose((0, 2, 3, 1))\n",
    "    \n",
    "    fig = plot.figure(figsize=figure_size)\n",
    "    col_count = (len(images) - 1) // row_count + 1\n",
    "    \n",
    "    for i in range(len(images)):\n",
    "        space = fig.add_subplot(row_count, col_count, i+1)\n",
    "        space.axis('off')\n",
    "        plot.imshow(images[i], interpolation=None if interp else 'none')\n",
    "        \n",
    "    plot.show()\n",
    "\n",
    "\n",
    "skin_square(images)"
   ]
  },
  {
   "cell_type": "code",
   "execution_count": null,
   "metadata": {
    "_uuid": "aa1041d69b0e8313324b91e3e9475799e1ad61c2"
   },
   "outputs": [],
   "source": [
    "train_imgs_path = 'root_directory/training_directory'\n",
    "validation_imgs_path = 'root_directory/validation_directory'\n",
    "\n",
    "total_train_images = len(skn_dat_train)\n",
    "total_val_images = len(valid_skn_dat)\n",
    "t_batchsize = 10\n",
    "v_batchsize = 10\n",
    "img_size = 224\n",
    "\n",
    "steps_for_train = npy.ceil(total_train_images / t_batchsize)\n",
    "steps_for_val = npy.ceil(total_val_images / v_batchsize)\n"
   ]
  },
  {
   "cell_type": "code",
   "execution_count": null,
   "metadata": {
    "_uuid": "d0e5aede7139196b0d4e1344b278e7621f005550"
   },
   "outputs": [],
   "source": [
    "datagenerator = ImageDataGenerator(preprocessing_function= tf.keras.applications.efficientnet.preprocess_input)\n",
    "\n",
    "btch_trn = datagenerator.flow_from_directory(train_imgs_path,\n",
    "                                            target_size=(img_size,img_size),\n",
    "                                            batch_size=t_batchsize)\n",
    "\n",
    "btch_val = datagenerator.flow_from_directory(validation_imgs_path,\n",
    "                                            target_size=(img_size,img_size),\n",
    "                                            batch_size=v_batchsize)\n",
    "\n",
    "tst_btch = datagenerator.flow_from_directory(validation_imgs_path,\n",
    "                                            target_size=(img_size,img_size),\n",
    "                                            batch_size=1,\n",
    "                                            shuffle=False)"
   ]
  },
  {
   "cell_type": "code",
   "execution_count": null,
   "metadata": {},
   "outputs": [],
   "source": [
    "from tensorflow.keras.metrics import categorical_accuracy, top_k_categorical_accuracy\n",
    "\n",
    "def best3_acc(y_actual, y_predict_value):\n",
    "    return top_k_categorical_accuracy(y_actual, y_predict_value, k=3)\n",
    "\n",
    "def best2_acc(y_actual, y_predict_value):\n",
    "    return top_k_categorical_accuracy(y_actual, y_predict_value, k=2)"
   ]
  },
  {
   "cell_type": "code",
   "execution_count": null,
   "metadata": {},
   "outputs": [],
   "source": [
    "height=224  # image height\n",
    "width=224   # image width\n",
    "channels=3\n",
    "img_shape=(height, width, channels)"
   ]
  },
  {
   "cell_type": "code",
   "execution_count": null,
   "metadata": {
    "_uuid": "ad582cb8ea0ca2d563fc367aa89b7edfafc1a57f"
   },
   "outputs": [],
   "source": [
    "model_name='EfficientNetB4'\n",
    "root_model=tf.keras.applications.EfficientNetB4(include_top=False, weights=\"imagenet\",input_shape=img_shape, pooling='max') \n",
    "z=root_model.output\n",
    "z=tensorflow.keras.layers.BatchNormalization(axis=-1, momentum=0.99, epsilon=0.001 )(z)\n",
    "z = Dense(256, kernel_regularizer = tf.keras.regularizers.l2(l = 0.016),activity_regularizer=tf.keras.regularizers.l1(0.006),\n",
    "                bias_regularizer=tf.keras.regularizers.l1(0.006) ,activation='relu')(z)\n",
    "z=Dropout(rate=.45, seed=123)(z)        \n",
    "output_layer=Dense(7, activation='softmax')(z)\n",
    "mdl=Model(inputs=root_model.input, outputs=output_layer)\n",
    "mdl.compile(tf.keras.optimizers.Adamax(learning_rate=.001), loss='categorical_crossentropy', \n",
    "              metrics=[categorical_accuracy, best2_acc, best3_acc]) "
   ]
  },
  {
   "cell_type": "code",
   "execution_count": null,
   "metadata": {
    "_kg_hide-output": true,
    "_uuid": "b38734b72afc4289ab187a9e683cbda6bf3269bc"
   },
   "outputs": [],
   "source": [
    "mdl.summary()"
   ]
  },
  {
   "cell_type": "code",
   "execution_count": null,
   "metadata": {},
   "outputs": [],
   "source": [
    "weights={\n",
    "    0: 1.0, \n",
    "    1: 1.0, \n",
    "    2: 1.0, \n",
    "    3: 1.0, \n",
    "    4: 2.0, \n",
    "    5: 1.0, \n",
    "    6: 1.0, \n",
    "}"
   ]
  },
  {
   "cell_type": "code",
   "execution_count": null,
   "metadata": {},
   "outputs": [],
   "source": [
    "#pip install --user tensorflow==2.9.1"
   ]
  },
  {
   "cell_type": "code",
   "execution_count": null,
   "metadata": {},
   "outputs": [],
   "source": [
    "print(tf. __version__) "
   ]
  },
  {
   "cell_type": "code",
   "execution_count": null,
   "metadata": {},
   "outputs": [],
   "source": [
    "file_path = \"modeltensorefficentb4.h5\"\n",
    "ckpt = ModelCheckpoint(file_path, monitor='val_best3_acc',  \n",
    "                             save_best_only=True, mode='max')\n",
    "\n",
    "lr_scheduler = ReduceLROnPlateau(monitor='val_best3_acc', factor=0.5, patience=4, \n",
    "                                   mode='max')\n",
    "                              \n",
    "                              \n",
    "callbacks = [ckpt, lr_scheduler]\n",
    "\n",
    "model_cycle = mdl.fit(btch_trn, steps_per_epoch=128, \n",
    "                              class_weight=weights,\n",
    "                    validation_data=btch_val,\n",
    "                    validation_steps=steps_for_val,\n",
    "                    epochs=50, verbose=1,\n",
    "                   callbacks=callbacks)"
   ]
  },
  {
   "cell_type": "code",
   "execution_count": null,
   "metadata": {
    "_uuid": "710ee26097924153647ac432c8ade29383fe42f1"
   },
   "outputs": [],
   "source": [
    "mdl.metrics_names"
   ]
  },
  {
   "cell_type": "code",
   "execution_count": null,
   "metadata": {
    "_uuid": "68603a5e8cb5e507db95074a07b552a61fa48e11"
   },
   "outputs": [],
   "source": [
    "validation_loss, validation_cat_accuracy, validation_top2_accuracy, validation_top3_accuracy = \\\n",
    "mdl.evaluate_generator(tst_btch, \n",
    "                        steps=len(valid_skn_dat))\n",
    "\n",
    "print('The validation loss:', validation_loss)\n",
    "print('The validation category accuracy:', validation_cat_accuracy)\n",
    "print('The top two accuarcy:', validation_top2_accuracy)\n",
    "print('The top three validation accuarcy', validation_top3_accuracy)"
   ]
  },
  {
   "cell_type": "code",
   "execution_count": null,
   "metadata": {
    "_uuid": "897f066da922d81fefa165a6b911a741c52ef7f5"
   },
   "outputs": [],
   "source": [
    "mdl.load_weights('modeltensorefficentb4.h5')\n",
    "\n",
    "validation_loss, validation_cat_accuracy, validation_top2_accuracy, validation_top3_accuracy = \\\n",
    "mdl.evaluate_generator(tst_btch, \n",
    "                        steps=len(valid_skn_dat))\n",
    "\n",
    "print('The validation loss:', validation_loss)\n",
    "print('The validation category accuracy:', validation_cat_accuracy)\n",
    "print('The top two accuarcy:', validation_top2_accuracy)\n",
    "print('The top three validation accuarcy', validation_top3_accuracy)"
   ]
  },
  {
   "cell_type": "code",
   "execution_count": null,
   "metadata": {
    "_uuid": "0cbd11ef4286a751ef2918361af035d356f341ae"
   },
   "outputs": [],
   "source": [
    "import matplotlib.pyplot as plots\n",
    "\n",
    "metrics = {\n",
    "    'loss': ['Train loss', 'Validation loss'],\n",
    "    'categorical_accuracy': ['Train catagorical accuracy', 'Validation catagorical accuracy'],\n",
    "    'best2_acc': ['Train top 2 accuracy', 'Validation top 2 accuracy'],\n",
    "    'best3_acc': ['Train top 3 accuracy', 'Validation top 3 accuracy']\n",
    "}\n",
    "\n",
    "fig, axes = plots.subplots(len(metrics), 1, figsize=(8, 6 * len(metrics)))\n",
    "\n",
    "for i, (metric, titles) in enumerate(metrics.items()):\n",
    "    train_metric = model_cycle.model_cycle[metric]\n",
    "    validation_metric = model_cycle.model_cycle['val_' + metric]\n",
    "\n",
    "    ax = axes[i]\n",
    "    ax.plot(train_metric, 'bo', label=titles[0])\n",
    "    ax.plot(val_metric, 'b', label=titles[1])\n",
    "    ax.set_title(titles[0])\n",
    "    ax.legend()\n",
    "\n",
    "plots.tight_layout()\n",
    "plots.show()"
   ]
  },
  {
   "cell_type": "markdown",
   "metadata": {
    "_uuid": "4204e4056c8d12c1fee72b97912879cad4ee483f"
   },
   "source": [
    "### Create a Confusion Matrix"
   ]
  },
  {
   "cell_type": "code",
   "execution_count": null,
   "metadata": {
    "_uuid": "74a66905f7a2d702f3d2aad9abf9fe114b96f0ff"
   },
   "outputs": [],
   "source": [
    "test_labels = tst_btch.classes"
   ]
  },
  {
   "cell_type": "code",
   "execution_count": null,
   "metadata": {
    "_kg_hide-output": true,
    "_uuid": "53f4b22617285e923f336cdb2ffcbe1f9ff5e5db"
   },
   "outputs": [],
   "source": [
    "test_labels"
   ]
  },
  {
   "cell_type": "code",
   "execution_count": null,
   "metadata": {
    "_uuid": "d5113e039e8384b96595751e084f0c5ed677080a"
   },
   "outputs": [],
   "source": [
    "tst_btch.class_indices"
   ]
  },
  {
   "cell_type": "code",
   "execution_count": null,
   "metadata": {
    "_uuid": "701dafc5874aa60a054a74c04170cb7e8d750e94"
   },
   "outputs": [],
   "source": [
    "predictions = model.predict(tst_btch, steps=len(valid_skn_dat), verbose=1)"
   ]
  },
  {
   "cell_type": "code",
   "execution_count": null,
   "metadata": {
    "_uuid": "dcce17ac0488ff90d29b11592c9226ed1bb210fb"
   },
   "outputs": [],
   "source": [
    "predictions.shape"
   ]
  },
  {
   "cell_type": "code",
   "execution_count": null,
   "metadata": {
    "_uuid": "7cfd9bdbbd27e27d9c5de7c6593527686445ea89"
   },
   "outputs": [],
   "source": [
    "def cfsn_matrix(matrix, labels, name='Confusion_matrix', color_map='Blues'):\n",
    "    \n",
    "    print('Confusion matrix')\n",
    "\n",
    "    plots.imshow(matrix, cmap=color_map, aspect='auto')\n",
    "    plots.title(name)\n",
    "    plots.colorbar()\n",
    "    markers = npy.arange(len(labels))\n",
    "    plots.xticks(markers, labels, rotation=45, ha='right')\n",
    "    plots.yticks(markers, labels)\n",
    "\n",
    "    form = 'd'\n",
    "    threshold = matrix.max() / 2.\n",
    "    for x, y in npy.ndindex(matrix.shape):\n",
    "        colour = \"white\" if matrix[x, y] > threshold else \"black\"\n",
    "        plots.text(y, x, format(matrix[x, y], form), ha='center', va='center', color=colour)\n",
    "\n",
    "    plots.xlabel('Predicted label')\n",
    "    plots.ylabel('True label')\n",
    "    plots.tight_layout()\n",
    "    plots.show()\n",
    "\n"
   ]
  },
  {
   "cell_type": "code",
   "execution_count": null,
   "metadata": {
    "_uuid": "8d499136cdb5fdf356515beb6e0cd1130ed584db"
   },
   "outputs": [],
   "source": [
    "test_labels.shape"
   ]
  },
  {
   "cell_type": "code",
   "execution_count": null,
   "metadata": {
    "_uuid": "940b71bb2b37d847ba81dd67ca50c7fd5785fd35"
   },
   "outputs": [],
   "source": [
    "confusion_matrix = confusion_matrix(test_labels, predictions.argmax(axis=1))"
   ]
  },
  {
   "cell_type": "code",
   "execution_count": null,
   "metadata": {
    "_uuid": "97c6b493c368ff6565782c1bb15827f5d349ef79"
   },
   "outputs": [],
   "source": [
    "tst_btch.class_indices"
   ]
  },
  {
   "cell_type": "code",
   "execution_count": null,
   "metadata": {
    "_uuid": "0ddbd33a93468075c64ba49188a6d272a5c7828f"
   },
   "outputs": [],
   "source": [
    "confusion_matrix_labels = ['akiec', 'bcc', 'bkl', 'df', 'mel','nv', 'vasc']\n",
    "\n",
    "cfsn_matrix(confusion_matrix, confusion_matrix_labels, name='Confusion Matrix')"
   ]
  },
  {
   "cell_type": "code",
   "execution_count": null,
   "metadata": {
    "_uuid": "ebc31a49c8e8ab5d1305e46a7d638e0da326da8b"
   },
   "outputs": [],
   "source": [
    "y_predict_value = npy.argmax(predictions, axis=1)\n",
    "\n",
    "y_actual = tst_btch.classes"
   ]
  },
  {
   "cell_type": "code",
   "execution_count": null,
   "metadata": {
    "_uuid": "05027fe3475ab922340f9d905ec1239e2157fa05"
   },
   "outputs": [],
   "source": [
    "from sklearn.metrics import classification_report\n",
    "\n",
    "clf_rep = classification_report(y_actual, y_predict_value, target_names=confusion_matrix_labels)\n",
    "\n",
    "print(clf_rep)"
   ]
  },
  {
   "cell_type": "code",
   "execution_count": null,
   "metadata": {},
   "outputs": [],
   "source": [
    "model_name='resnet101'\n",
    "base_model=tf.keras.applications.resnet.ResNet101(include_top=False, weights=\"imagenet\",input_shape=img_shape, pooling='max') \n",
    "zz=base_model.output\n",
    "zz=tensorflow.keras.layers.BatchNormalization(axis=-1, momentum=0.99, epsilon=0.001 )(zz)\n",
    "zz = Dense(256, kernel_regularizer = tf.keras.regularizers.l2(l = 0.016),activity_regularizer=tf.keras.regularizers.l1(0.006),\n",
    "                bias_regularizer=tf.keras.regularizers.l1(0.006) ,activation='relu')(zz)\n",
    "zz=Dropout(rate=.45, seed=123)(zz)        \n",
    "output=Dense(7, activation='softmax')(zz)\n",
    "mdl=Model(inputs=base_model.input, outputs=output)\n",
    "mdl.compile(tf.keras.optimizers.Adamax(learning_rate=.001), loss='categorical_crossentropy', \n",
    "              metrics=[categorical_accuracy, top_2_accuracy, top_3_accuracy]) "
   ]
  },
  {
   "cell_type": "code",
   "execution_count": null,
   "metadata": {},
   "outputs": [],
   "source": [
    "mdl.summary()"
   ]
  },
  {
   "cell_type": "code",
   "execution_count": null,
   "metadata": {},
   "outputs": [],
   "source": [
    "file_path = \"resnet101.h5\"\n",
    "ckpt = ModelCheckpoint(file_path, monitor='val_best3_acc', verbose=1, \n",
    "                             save_best_only=True, mode='max')\n",
    "\n",
    "lr_scheduler = ReduceLROnPlateau(monitor='val_best3_acc', factor=0.5, patience=4, \n",
    "                                   verbose=1, mode='max')\n",
    "                              \n",
    "                              \n",
    "callbacks = [ckpt, lr_scheduler]\n",
    "\n",
    "model_cycle = mdl.fit(btch_trn, steps_per_epoch=128, \n",
    "                              class_weight=weights,\n",
    "                    validation_data=btch_val,\n",
    "                    validation_steps=val_steps,\n",
    "                    epochs=1, verbose=1,\n",
    "                   callbacks=callbacks)"
   ]
  },
  {
   "cell_type": "code",
   "execution_count": null,
   "metadata": {},
   "outputs": [],
   "source": [
    "mdl.load_weights('resnet101.h5')\n",
    "\n",
    "validation_loss, validation_cat_accuracy, validation_top2_accuracy, validation_top3_accuracy = \\\n",
    "mdl.evaluate_generator(tst_btch, \n",
    "                        steps=len(valid_skn_dat))\n",
    "\n",
    "print('The validation loss:', validation_loss)\n",
    "print('The validation category accuracy:', validation_cat_accuracy)\n",
    "print('The top two accuarcy:', validation_top2_accuracy)\n",
    "print('The top three validation accuarcy', validation_top3_accuracy)"
   ]
  },
  {
   "cell_type": "code",
   "execution_count": null,
   "metadata": {},
   "outputs": [],
   "source": []
  },
  {
   "cell_type": "code",
   "execution_count": null,
   "metadata": {},
   "outputs": [],
   "source": []
  },
  {
   "cell_type": "code",
   "execution_count": null,
   "metadata": {},
   "outputs": [],
   "source": []
  },
  {
   "cell_type": "code",
   "execution_count": null,
   "metadata": {},
   "outputs": [],
   "source": []
  }
 ],
 "metadata": {
  "kernelspec": {
   "display_name": "Python 3 (ipykernel)",
   "language": "python",
   "name": "python3"
  },
  "language_info": {
   "codemirror_mode": {
    "name": "ipython",
    "version": 3
   },
   "file_extension": ".py",
   "mimetype": "text/x-python",
   "name": "python",
   "nbconvert_exporter": "python",
   "pygments_lexer": "ipython3",
   "version": "3.8.0"
  }
 },
 "nbformat": 4,
 "nbformat_minor": 1
}
